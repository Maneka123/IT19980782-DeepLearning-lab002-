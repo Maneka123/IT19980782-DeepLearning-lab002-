{
 "cells": [
  {
   "cell_type": "code",
   "execution_count": 1,
   "metadata": {
    "id": "wncjuHKsOtkf"
   },
   "outputs": [],
   "source": [
    "from tensorflow.keras.datasets import mnist\n",
    "from tensorflow.keras.models import Sequential\n",
    "from tensorflow.keras.layers import Dense,Flatten\n",
    "from tensorflow.keras.utils import to_categorical\n",
    "from matplotlib import pyplot as plt\n",
    "import numpy as np\n"
   ]
  },
  {
   "cell_type": "markdown",
   "metadata": {
    "id": "vOlspUx0PCa_"
   },
   "source": [
    "Load the MNIST dataset"
   ]
  },
  {
   "cell_type": "code",
   "execution_count": 2,
   "metadata": {
    "colab": {
     "base_uri": "https://localhost:8080/"
    },
    "id": "9UOZdBlgE9jJ",
    "outputId": "e4e82daf-a245-4abc-e463-6f5b549be796"
   },
   "outputs": [
    {
     "name": "stdout",
     "output_type": "stream",
     "text": [
      "Downloading data from https://storage.googleapis.com/tensorflow/tf-keras-datasets/mnist.npz\n",
      "11490434/11490434 [==============================] - 88s 8us/step\n"
     ]
    }
   ],
   "source": [
    "(train_data,train_target),(test_data,test_target) = mnist.load_data()"
   ]
  },
  {
   "cell_type": "markdown",
   "metadata": {
    "id": "RociFxvNPi_w"
   },
   "source": [
    "Visualize the dataset"
   ]
  },
  {
   "cell_type": "code",
   "execution_count": 3,
   "metadata": {
    "colab": {
     "base_uri": "https://localhost:8080/",
     "height": 549
    },
    "id": "FEmN0CXzQ0r0",
    "outputId": "cac48efb-9a7b-490a-a513-23134f81adb0"
   },
   "outputs": [
    {
     "name": "stdout",
     "output_type": "stream",
     "text": [
      "Target labels:  [4 2 6 5 8 7 4 8 7 7]\n"
     ]
    },
    {
     "data": {
      "image/png": "[encoded data removed]",
      "text/plain": [
       "<Figure size 1152x576 with 10 Axes>"
      ]
     },
     "metadata": {
      "needs_background": "light"
     },
     "output_type": "display_data"
    }
   ],
   "source": [
    "fig, axs = plt.subplots(2, 5, figsize=(16,8))\n",
    "random_numbers = np.random.randint(0, 60000, 10)\n",
    "print('Target labels: ',train_target[random_numbers])\n",
    "for idx, ax in enumerate(axs.ravel()):\n",
    "    ax.imshow(train_data[random_numbers[idx]],cmap='gray')\n",
    "plt.show()"
   ]
  },
  {
   "cell_type": "markdown",
   "metadata": {
    "id": "YxaTSaecPUf9"
   },
   "source": [
    "Pre-processing stage"
   ]
  },
  {
   "cell_type": "code",
   "execution_count": 4,
   "metadata": {
    "id": "wWPOLNMVPTRv"
   },
   "outputs": [],
   "source": [
    "new_train_data = train_data/255.0\n",
    "new_test_data=test_data/255.0\n",
    "\n",
    "new_train_target = to_categorical(train_target)\n",
    "new_test_target = to_categorical(test_target)"
   ]
  },
  {
   "cell_type": "markdown",
   "metadata": {
    "id": "ZSLECSQfPKPH"
   },
   "source": [
    "Create the Model architecture"
   ]
  },
  {
   "cell_type": "code",
   "execution_count": 12,
   "metadata": {
    "id": "enx5PvLWE9jM"
   },
   "outputs": [],
   "source": [
    "#model=Sequential()\n",
    "\n",
    "#model.add(Flatten(input_shape=(28,28)))\n",
    "\n",
    "#model.add(Dense(64,activation='relu'))\n",
    "#model.add(Dense(64,input_dim=64,activation='relu'))\n",
    "#model.add(Dense(32,input_dim=64,activation='relu'))\n",
    "#model.add(Dense(10,input_dim=32,activation='softmax'))\n",
    "#model.compile(loss='categorical_crossentropy',optimizer='adam',metrics=['accuracy'])\n",
    "\n",
    "from tensorflow.keras.models import Sequential\n",
    "from tensorflow.keras.layers import Flatten, Dense\n",
    "from tensorflow.keras.regularizers import l1_l2\n",
    "\n",
    "# Create a Sequential model\n",
    "model = Sequential()\n",
    "\n",
    "# Flatten the 28x28 input images to a 1D array\n",
    "model.add(Flatten(input_shape=(28, 28)))\n",
    "\n",
    "# Add a fully connected layer with L1 and L2 regularization\n",
    "model.add(Dense(64, activation='relu', kernel_regularizer=l1_l2(l1=0.01, l2=0.01)))\n",
    "\n",
    "# Add another fully connected layer with L1 and L2 regularization\n",
    "model.add(Dense(64, activation='relu', kernel_regularizer=l1_l2(l1=0.01, l2=0.01)))\n",
    "\n",
    "# Add another fully connected layer with L1 and L2 regularization\n",
    "model.add(Dense(32, activation='relu', kernel_regularizer=l1_l2(l1=0.01, l2=0.01)))\n",
    "\n",
    "# Add the output layer with 10 units (one for each digit) and softmax activation\n",
    "model.add(Dense(10, activation='softmax'))\n",
    "\n",
    "# Compile the model\n",
    "model.compile()"
   ]
  },
  {
   "cell_type": "code",
   "execution_count": 13,
   "metadata": {
    "colab": {
     "base_uri": "https://localhost:8080/"
    },
    "id": "TlqK33oVPP1X",
    "outputId": "41bd050a-a838-43a0-ec61-f7ec9179029f"
   },
   "outputs": [
    {
     "name": "stdout",
     "output_type": "stream",
     "text": [
      "Model: \"sequential_3\"\n",
      "_________________________________________________________________\n",
      " Layer (type)                Output Shape              Param #   \n",
      "=================================================================\n",
      " flatten_3 (Flatten)         (None, 784)               0         \n",
      "                                                                 \n",
      " dense_6 (Dense)             (None, 64)                50240     \n",
      "                                                                 \n",
      " dense_7 (Dense)             (None, 64)                4160      \n",
      "                                                                 \n",
      " dense_8 (Dense)             (None, 32)                2080      \n",
      "                                                                 \n",
      " dense_9 (Dense)             (None, 10)                330       \n",
      "                                                                 \n",
      "=================================================================\n",
      "Total params: 56,810\n",
      "Trainable params: 56,810\n",
      "Non-trainable params: 0\n",
      "_________________________________________________________________\n"
     ]
    }
   ],
   "source": [
    "model.summary()"
   ]
  },
  {
   "cell_type": "markdown",
   "metadata": {
    "id": "9WYHu5ILSfNf"
   },
   "source": [
    "Train the model"
   ]
  },
  {
   "cell_type": "code",
   "execution_count": 14,
   "metadata": {
    "colab": {
     "base_uri": "https://localhost:8080/"
    },
    "id": "65p6Lg5gE9jO",
    "outputId": "6c84b954-90aa-479c-f5d9-0fee6906cc5a"
   },
   "outputs": [
    {
     "name": "stdout",
     "output_type": "stream",
     "text": [
      "Epoch 1/20\n",
      "WARNING:tensorflow:Gradients do not exist for variables ['dense_6/bias:0', 'dense_7/bias:0', 'dense_8/bias:0', 'dense_9/kernel:0', 'dense_9/bias:0'] when minimizing the loss. If you're using `model.compile()`, did you forget to provide a `loss` argument?\n",
      "WARNING:tensorflow:Gradients do not exist for variables ['dense_6/bias:0', 'dense_7/bias:0', 'dense_8/bias:0', 'dense_9/kernel:0', 'dense_9/bias:0'] when minimizing the loss. If you're using `model.compile()`, did you forget to provide a `loss` argument?\n",
      "WARNING:tensorflow:Gradients do not exist for variables ['dense_6/bias:0', 'dense_7/bias:0', 'dense_8/bias:0', 'dense_9/kernel:0', 'dense_9/bias:0'] when minimizing the loss. If you're using `model.compile()`, did you forget to provide a `loss` argument?\n",
      "WARNING:tensorflow:Gradients do not exist for variables ['dense_6/bias:0', 'dense_7/bias:0', 'dense_8/bias:0', 'dense_9/kernel:0', 'dense_9/bias:0'] when minimizing the loss. If you're using `model.compile()`, did you forget to provide a `loss` argument?\n",
      "750/750 [==============================] - 2s 2ms/step - loss: 1.6250 - val_loss: 0.2811 - lr: 0.0010\n",
      "Epoch 2/20\n",
      "750/750 [==============================] - 1s 1ms/step - loss: 0.2816 - val_loss: 0.2815 - lr: 0.0010\n",
      "Epoch 3/20\n",
      "750/750 [==============================] - 1s 1ms/step - loss: 0.2816 - val_loss: 0.2816 - lr: 0.0010\n",
      "Epoch 4/20\n",
      "750/750 [==============================] - 1s 1ms/step - loss: 0.2816 - val_loss: 0.2816 - lr: 0.0010\n",
      "Epoch 5/20\n",
      "750/750 [==============================] - 1s 1ms/step - loss: 0.2816 - val_loss: 0.2816 - lr: 0.0010\n",
      "Epoch 6/20\n",
      "750/750 [==============================] - 1s 1ms/step - loss: 0.1408 - val_loss: 0.2099 - lr: 5.0000e-04\n",
      "Epoch 7/20\n",
      "750/750 [==============================] - 1s 1ms/step - loss: 0.1408 - val_loss: 0.1748 - lr: 5.0000e-04\n",
      "Epoch 8/20\n",
      "750/750 [==============================] - 1s 1ms/step - loss: 0.1408 - val_loss: 0.1575 - lr: 5.0000e-04\n",
      "Epoch 9/20\n",
      "750/750 [==============================] - 1s 1ms/step - loss: 0.1408 - val_loss: 0.1490 - lr: 5.0000e-04\n",
      "Epoch 10/20\n",
      "750/750 [==============================] - 1s 1ms/step - loss: 0.1408 - val_loss: 0.1448 - lr: 5.0000e-04\n",
      "Epoch 11/20\n",
      "750/750 [==============================] - 1s 2ms/step - loss: 0.0284 - val_loss: 0.0317 - lr: 1.0000e-04\n",
      "Epoch 12/20\n",
      "750/750 [==============================] - 1s 1ms/step - loss: 0.0281 - val_loss: 0.0312 - lr: 1.0000e-04\n",
      "Epoch 13/20\n",
      "750/750 [==============================] - 1s 1ms/step - loss: 0.0281 - val_loss: 0.0308 - lr: 1.0000e-04\n",
      "Epoch 14/20\n",
      "750/750 [==============================] - 1s 1ms/step - loss: 0.0281 - val_loss: 0.0304 - lr: 1.0000e-04\n",
      "Epoch 15/20\n",
      "750/750 [==============================] - 1s 1ms/step - loss: 0.0281 - val_loss: 0.0301 - lr: 1.0000e-04\n",
      "Epoch 16/20\n",
      "750/750 [==============================] - 1s 1ms/step - loss: 0.0281 - val_loss: 0.0299 - lr: 1.0000e-04\n",
      "Epoch 17/20\n",
      "750/750 [==============================] - 1s 1ms/step - loss: 0.0281 - val_loss: 0.0296 - lr: 1.0000e-04\n",
      "Epoch 18/20\n",
      "750/750 [==============================] - 1s 2ms/step - loss: 0.0281 - val_loss: 0.0294 - lr: 1.0000e-04\n",
      "Epoch 19/20\n",
      "750/750 [==============================] - 1s 2ms/step - loss: 0.0281 - val_loss: 0.0293 - lr: 1.0000e-04\n",
      "Epoch 20/20\n",
      "750/750 [==============================] - 1s 1ms/step - loss: 0.0281 - val_loss: 0.0291 - lr: 1.0000e-04\n"
     ]
    }
   ],
   "source": [
    "#train_info = model.fit(new_train_data , new_train_target , epochs = 10)\n",
    "\n",
    "\n",
    "# Load and preprocess your new training data\n",
    "#new_train_data, new_train_target = load_and_preprocess_data(new_data_path)\n",
    "\n",
    "# Retrain the model\n",
    "from tensorflow.keras.callbacks import EarlyStopping, LearningRateScheduler\n",
    "\n",
    "# Define a learning rate schedule function\n",
    "def lr_schedule(epoch):\n",
    "    if epoch < 5:\n",
    "        return 0.001\n",
    "    elif epoch < 10:\n",
    "        return 0.0005\n",
    "    else:\n",
    "        return 0.0001\n",
    "\n",
    "# Create callbacks for early stopping and learning rate scheduling\n",
    "early_stopping = EarlyStopping(patience=5, restore_best_weights=True)\n",
    "lr_scheduler = LearningRateScheduler(lr_schedule)\n",
    "\n",
    "# Assuming you have already defined and compiled your model\n",
    "\n",
    "# Load and preprocess the new training data\n",
    "#new_train_data, new_train_target = load_and_preprocess_data(new_data_path)\n",
    "\n",
    "# Retrain the model\n",
    "history = model.fit(\n",
    "    new_train_data,\n",
    "    new_train_target,\n",
    "    epochs=20,  # You can adjust the number of epochs\n",
    "    batch_size=64,  # You can adjust the batch size\n",
    "    validation_split=0.2,  # If you have validation data\n",
    "    callbacks=[early_stopping, lr_scheduler]  # Include callbacks\n",
    ")\n"
   ]
  },
  {
   "cell_type": "markdown",
   "metadata": {
    "id": "cwR1pYCBSl6w"
   },
   "source": [
    "Plot the loss and accuracy graphs"
   ]
  },
  {
   "cell_type": "code",
   "execution_count": 16,
   "metadata": {
    "colab": {
     "base_uri": "https://localhost:8080/",
     "height": 472
    },
    "id": "nIHMcTjME9jP",
    "outputId": "f6adf01b-e131-4dc6-991d-e97c046a95e4"
   },
   "outputs": [
    {
     "data": {
      "image/png": "[encoded data removed]",
      "text/plain": [
       "<Figure size 432x288 with 1 Axes>"
      ]
     },
     "metadata": {
      "needs_background": "light"
     },
     "output_type": "display_data"
    }
   ],
   "source": [
    "#plt.plot(train_info.history['loss'])\n",
    "#plt.xlabel('epochs')\n",
    "#plt.ylabel('loss')\n",
    "#plt.title('Model loss')\n",
    "#plt.show()\n",
    "\n",
    "import matplotlib.pyplot as plt\n",
    "\n",
    "# Assuming you have already trained your model and stored the training history in the 'history' variable\n",
    "\n",
    "# Plot the training loss\n",
    "plt.plot(history.history['loss'])\n",
    "plt.xlabel('Epochs')\n",
    "plt.ylabel('Loss')\n",
    "plt.title('Model Loss')\n",
    "plt.show()\n"
   ]
  },
  {
   "cell_type": "code",
   "execution_count": 21,
   "metadata": {
    "colab": {
     "base_uri": "https://localhost:8080/",
     "height": 472
    },
    "id": "T6DnvAP3E9jP",
    "outputId": "c35b0246-fd9a-4298-a96f-1cb2bfd06ac8"
   },
   "outputs": [
    {
     "ename": "KeyError",
     "evalue": "'accuracy'",
     "output_type": "error",
     "traceback": [
      "\u001b[1;31m---------------------------------------------------------------------------\u001b[0m",
      "\u001b[1;31mKeyError\u001b[0m                                  Traceback (most recent call last)",
      "\u001b[1;32m~\\AppData\\Local\\Temp\\ipykernel_33448\\1441436985.py\u001b[0m in \u001b[0;36m<module>\u001b[1;34m\u001b[0m\n\u001b[0;32m      4\u001b[0m \u001b[1;33m\u001b[0m\u001b[0m\n\u001b[0;32m      5\u001b[0m \u001b[1;31m# Plot the training accuracy\u001b[0m\u001b[1;33m\u001b[0m\u001b[1;33m\u001b[0m\u001b[1;33m\u001b[0m\u001b[0m\n\u001b[1;32m----> 6\u001b[1;33m \u001b[0mplt\u001b[0m\u001b[1;33m.\u001b[0m\u001b[0mplot\u001b[0m\u001b[1;33m(\u001b[0m\u001b[0mhistory\u001b[0m\u001b[1;33m.\u001b[0m\u001b[0mhistory\u001b[0m\u001b[1;33m[\u001b[0m\u001b[1;34m'accuracy'\u001b[0m\u001b[1;33m]\u001b[0m\u001b[1;33m)\u001b[0m\u001b[1;33m\u001b[0m\u001b[1;33m\u001b[0m\u001b[0m\n\u001b[0m\u001b[0;32m      7\u001b[0m \u001b[0mplt\u001b[0m\u001b[1;33m.\u001b[0m\u001b[0mxlabel\u001b[0m\u001b[1;33m(\u001b[0m\u001b[1;34m'Epochs'\u001b[0m\u001b[1;33m)\u001b[0m\u001b[1;33m\u001b[0m\u001b[1;33m\u001b[0m\u001b[0m\n\u001b[0;32m      8\u001b[0m \u001b[0mplt\u001b[0m\u001b[1;33m.\u001b[0m\u001b[0mylabel\u001b[0m\u001b[1;33m(\u001b[0m\u001b[1;34m'Accuracy'\u001b[0m\u001b[1;33m)\u001b[0m\u001b[1;33m\u001b[0m\u001b[1;33m\u001b[0m\u001b[0m\n",
      "\u001b[1;31mKeyError\u001b[0m: 'accuracy'"
     ]
    }
   ],
   "source": [
    "import matplotlib.pyplot as plt\n",
    "\n",
    "# Assuming you have already trained your model and stored the training history in the 'history' variable\n",
    "\n",
    "# Plot the training accuracy\n",
    "plt.plot(history.history['accuracy'])\n",
    "plt.xlabel('Epochs')\n",
    "plt.ylabel('Accuracy')\n",
    "plt.title('Model Accuracy')\n",
    "plt.show()\n"
   ]
  },
  {
   "cell_type": "markdown",
   "metadata": {
    "id": "lHY3ygUVTkmo"
   },
   "source": [
    "Test the performance of Model"
   ]
  },
  {
   "cell_type": "code",
   "execution_count": 23,
   "metadata": {
    "colab": {
     "base_uri": "https://localhost:8080/"
    },
    "id": "vLSwDA7DE9jQ",
    "outputId": "2a2aa0a3-dd0f-4ac4-8349-2f6ee56ac15f"
   },
   "outputs": [
    {
     "name": "stdout",
     "output_type": "stream",
     "text": [
      "Loss of the Test dataset is: 0.0291\n",
      "Accuracy of the Test dataset is: 0.9709\n"
     ]
    }
   ],
   "source": [
    "#loss, acc = model.evaluate(new_test_data , new_test_target)\n",
    "#print(f'Loss of the Test dataset is: {loss}\\nAccuracy of the test dataset is: {acc}')\n",
    "# Evaluate the model on the test dataset\n",
    "loss = model.evaluate(new_test_data, new_test_target, verbose=0)\n",
    "\n",
    "# Calculate the accuracy manually\n",
    "accuracy = 1 - loss\n",
    "\n",
    "# Print the evaluation results\n",
    "print(f'Loss of the Test dataset is: {loss:.4f}')\n",
    "print(f'Accuracy of the Test dataset is: {accuracy:.4f}')\n"
   ]
  },
  {
   "cell_type": "markdown",
   "metadata": {
    "id": "gNAp8ycXU7ph"
   },
   "source": [
    "Save the model weights"
   ]
  },
  {
   "cell_type": "code",
   "execution_count": null,
   "metadata": {
    "id": "anSo8CJ3E9jR"
   },
   "outputs": [],
   "source": [
    "model.save_weights('MNIST_WEIGHTS_V1.h5')"
   ]
  },
  {
   "cell_type": "code",
   "execution_count": 25,
   "metadata": {},
   "outputs": [
    {
     "name": "stdout",
     "output_type": "stream",
     "text": [
      "313/313 [==============================] - 1s 1ms/step\n"
     ]
    },
    {
     "data": {
      "image/png": "[encoded data removed]",
      "text/plain": [
       "<Figure size 720x576 with 1 Axes>"
      ]
     },
     "metadata": {
      "needs_background": "light"
     },
     "output_type": "display_data"
    }
   ],
   "source": [
    "import numpy as np\n",
    "import matplotlib.pyplot as plt\n",
    "from sklearn.metrics import confusion_matrix\n",
    "import seaborn as sns\n",
    "\n",
    "# Assuming you have already trained your model and have test data\n",
    "# model and new_test_data should be defined\n",
    "\n",
    "# Predict class probabilities for the test data\n",
    "predicted_probs = model.predict(new_test_data)\n",
    "\n",
    "# Convert predicted probabilities to class labels\n",
    "predicted_labels = np.argmax(predicted_probs, axis=1)\n",
    "\n",
    "# Convert one-hot encoded test labels back to integers\n",
    "true_labels = np.argmax(new_test_target, axis=1)\n",
    "\n",
    "# Calculate the confusion matrix\n",
    "confusion = confusion_matrix(true_labels, predicted_labels)\n",
    "\n",
    "# Plot the confusion matrix as a heatmap\n",
    "plt.figure(figsize=(10, 8))\n",
    "sns.heatmap(confusion, annot=True, fmt='d', cmap='Blues', cbar=False, square=True,\n",
    "            xticklabels=list(range(10)), yticklabels=list(range(10)))\n",
    "plt.xlabel('Predicted')\n",
    "plt.ylabel('True')\n",
    "plt.title('Confusion Matrix')\n",
    "plt.show()\n",
    "\n"
   ]
  },
  {
   "cell_type": "code",
   "execution_count": null,
   "metadata": {},
   "outputs": [],
   "source": []
  }
 ],
 "metadata": {
  "colab": {
   "provenance": []
  },
  "kernelspec": {
   "display_name": "Python 3 (ipykernel)",
   "language": "python",
   "name": "python3"
  },
  "language_info": {
   "codemirror_mode": {
    "name": "ipython",
    "version": 3
   },
   "file_extension": ".py",
   "mimetype": "text/x-python",
   "name": "python",
   "nbconvert_exporter": "python",
   "pygments_lexer": "ipython3",
   "version": "3.7.3"
  }
 },
 "nbformat": 4,
 "nbformat_minor": 1
}
